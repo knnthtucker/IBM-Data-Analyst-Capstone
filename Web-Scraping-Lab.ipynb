{
 "cells": [
  {
   "cell_type": "markdown",
   "metadata": {},
   "source": [
    "<p style=\"text-align:center\">\n",
    "    <a href=\"https://skills.network/?utm_medium=Exinfluencer&utm_source=Exinfluencer&utm_content=000026UJ&utm_term=10006555&utm_id=NA-SkillsNetwork-Channel-SkillsNetworkCoursesIBMDA0321ENSkillsNetwork928-2022-01-01\" target=\"_blank\">\n",
    "    <img src=\"https://cf-courses-data.s3.us.cloud-object-storage.appdomain.cloud/assets/logos/SN_web_lightmode.png\" width=\"200\" alt=\"Skills Network Logo\"  />\n",
    "    </a>\n",
    "</p>\n"
   ]
  },
  {
   "cell_type": "markdown",
   "metadata": {},
   "source": [
    "# **Hands-on Lab : Web Scraping**\n"
   ]
  },
  {
   "cell_type": "markdown",
   "metadata": {},
   "source": [
    "Estimated time needed: **30 to 45** minutes\n"
   ]
  },
  {
   "cell_type": "markdown",
   "metadata": {},
   "source": [
    "## Objectives\n"
   ]
  },
  {
   "cell_type": "markdown",
   "metadata": {},
   "source": [
    "In this lab you will perform the following:\n"
   ]
  },
  {
   "cell_type": "markdown",
   "metadata": {},
   "source": [
    "* Extract information from a given web site \n",
    "* Write the scraped data into a csv file.\n"
   ]
  },
  {
   "cell_type": "markdown",
   "metadata": {},
   "source": [
    "## Extract information from the given web site\n",
    "You will extract the data from the below web site: <br> \n"
   ]
  },
  {
   "cell_type": "code",
   "metadata": {
    "ExecuteTime": {
     "end_time": "2025-09-20T12:32:42.234239Z",
     "start_time": "2025-09-20T12:32:42.231642Z"
    }
   },
   "source": [
    "#this url contains the data you need to scrape\n",
    "url = \"https://cf-courses-data.s3.us.cloud-object-storage.appdomain.cloud/IBM-DA0321EN-SkillsNetwork/labs/datasets/Programming_Languages.html\""
   ],
   "outputs": [],
   "execution_count": 20
  },
  {
   "cell_type": "markdown",
   "metadata": {},
   "source": [
    "The data you need to scrape is the **name of the programming language** and **average annual salary**.<br> It is a good idea to open the url in your web broswer and study the contents of the web page before you start to scrape.\n"
   ]
  },
  {
   "cell_type": "markdown",
   "metadata": {},
   "source": [
    "Import the required libraries\n"
   ]
  },
  {
   "cell_type": "code",
   "metadata": {
    "ExecuteTime": {
     "end_time": "2025-09-20T12:32:44.114643Z",
     "start_time": "2025-09-20T12:32:44.111668Z"
    }
   },
   "source": [
    "import pandas as pd\n",
    "from bs4 import BeautifulSoup # this module helps in web scrapping\n",
    "import requests  # this module helps us to download a webpage"
   ],
   "outputs": [],
   "execution_count": 21
  },
  {
   "cell_type": "markdown",
   "metadata": {},
   "source": [
    "Download the webpage at the url\n"
   ]
  },
  {
   "cell_type": "code",
   "metadata": {
    "ExecuteTime": {
     "end_time": "2025-09-20T12:32:46.130733Z",
     "start_time": "2025-09-20T12:32:45.519741Z"
    }
   },
   "source": "data  = requests.get(url).text",
   "outputs": [],
   "execution_count": 22
  },
  {
   "cell_type": "markdown",
   "metadata": {},
   "source": [
    "Create a soup object\n"
   ]
  },
  {
   "cell_type": "code",
   "metadata": {
    "ExecuteTime": {
     "end_time": "2025-09-20T12:32:47.901629Z",
     "start_time": "2025-09-20T12:32:47.896945Z"
    }
   },
   "source": [
    "soup = BeautifulSoup(data,'html.parser')\n",
    "table = soup.find('table')\n"
   ],
   "outputs": [],
   "execution_count": 23
  },
  {
   "cell_type": "markdown",
   "metadata": {},
   "source": [
    "Scrape the `Language name` and `annual average salary`.\n"
   ]
  },
  {
   "cell_type": "code",
   "metadata": {
    "ExecuteTime": {
     "end_time": "2025-09-20T12:55:46.141164Z",
     "start_time": "2025-09-20T12:55:46.136161Z"
    }
   },
   "source": [
    "\n",
    "table_data=[]\n",
    "for row in table.find_all('tr'): # in html table row is represented by the tag <tr>\n",
    "    cols = row.find_all(['td', 'th'])\n",
    "    cols = [ele.text.strip() for ele in cols]\n",
    "    table_data.append(cols)\n",
    "\n",
    "table_data"
   ],
   "outputs": [
    {
     "data": {
      "text/plain": [
       "[['No.',\n",
       "  'Language',\n",
       "  'Created By',\n",
       "  'Average Annual Salary',\n",
       "  'Learning Difficulty'],\n",
       " ['1', 'Python', 'Guido van Rossum', '$114,383', 'Easy'],\n",
       " ['2', 'Java', 'James Gosling', '$101,013', 'Easy'],\n",
       " ['3', 'R', 'Robert Gentleman, Ross Ihaka', '$92,037', 'Hard'],\n",
       " ['4', 'Javascript', 'Netscape', '$110,981', 'Easy'],\n",
       " ['5', 'Swift', 'Apple', '$130,801', 'Easy'],\n",
       " ['6', 'C++', 'Bjarne Stroustrup', '$113,865', 'Hard'],\n",
       " ['7', 'C#', 'Microsoft', '$88,726', 'Hard'],\n",
       " ['8', 'PHP', 'Rasmus Lerdorf', '$84,727', 'Easy'],\n",
       " ['9', 'SQL', 'Donald D. Chamberlin, Raymond F. Boyce.', '$84,793', 'Easy'],\n",
       " ['10',\n",
       "  'Go',\n",
       "  'Robert Griesemer, Ken Thompson, Rob Pike.',\n",
       "  '$94,082',\n",
       "  'Difficult']]"
      ]
     },
     "execution_count": 34,
     "metadata": {},
     "output_type": "execute_result"
    }
   ],
   "execution_count": 34
  },
  {
   "cell_type": "markdown",
   "metadata": {},
   "source": [
    "Save the scrapped data into a file named *popular-languages.csv*\n"
   ]
  },
  {
   "cell_type": "code",
   "metadata": {
    "ExecuteTime": {
     "end_time": "2025-09-20T13:02:28.088894Z",
     "start_time": "2025-09-20T13:02:28.077867Z"
    }
   },
   "source": [
    "df = pd.DataFrame(table_data)\n",
    "new_df=df[[1,3]]\n",
    "new_columns = new_df.iloc[0]\n",
    "new_df.columns = new_columns\n",
    "new_df = new_df[1:]\n",
    "new_df = new_df.reset_index(drop=True)\n",
    "new_df.head(10)\n",
    "new_df.to_csv('popular-languages.csv', index=False)"
   ],
   "outputs": [],
   "execution_count": 42
  },
  {
   "cell_type": "markdown",
   "metadata": {},
   "source": [
    "## Authors\n"
   ]
  },
  {
   "cell_type": "markdown",
   "metadata": {},
   "source": [
    "Ramesh Sannareddy\n"
   ]
  },
  {
   "cell_type": "markdown",
   "metadata": {},
   "source": [
    "### Other Contributors\n"
   ]
  },
  {
   "cell_type": "markdown",
   "metadata": {},
   "source": [
    "Rav Ahuja\n"
   ]
  },
  {
   "cell_type": "markdown",
   "metadata": {},
   "source": [
    "## Change Log\n"
   ]
  },
  {
   "cell_type": "markdown",
   "metadata": {},
   "source": [
    "|  Date (YYYY-MM-DD) |  Version | Changed By  |  Change Description |\n",
    "|---|---|---|---|\n",
    "| 2020-10-17  | 0.1  | Ramesh Sannareddy  |  Created initial version of the lab |\n"
   ]
  },
  {
   "cell_type": "markdown",
   "metadata": {},
   "source": [
    " Copyright &copy; 2020 IBM Corporation. This notebook and its source code are released under the terms of the [MIT License](https://cognitiveclass.ai/mit-license/?utm_medium=Exinfluencer&utm_source=Exinfluencer&utm_content=000026UJ&utm_term=10006555&utm_id=NA-SkillsNetwork-Channel-SkillsNetworkCoursesIBMDA0321ENSkillsNetwork928-2022-01-01).\n"
   ]
  }
 ],
 "metadata": {
  "kernelspec": {
   "display_name": "Python",
   "language": "python",
   "name": "conda-env-python-py"
  },
  "language_info": {
   "name": ""
  }
 },
 "nbformat": 4,
 "nbformat_minor": 4
}
